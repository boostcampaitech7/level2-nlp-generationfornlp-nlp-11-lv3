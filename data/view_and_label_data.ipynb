{
 "cells": [
  {
   "cell_type": "code",
   "execution_count": null,
   "metadata": {},
   "outputs": [],
   "source": [
    "import pandas as pd\n",
    "import torch\n",
    "from IPython.display import display\n",
    "import data_utils\n",
    "# 모든 열의 전체 내용을 출력하도록 설정\n",
    "pd.set_option('display.max_colwidth', None)"
   ]
  },
  {
   "cell_type": "markdown",
   "metadata": {},
   "source": [
    "데이터의 Problems를 분리하여 question, choices, answer 열로 추가하고 question_plus 열의 NaN을 ''으로 바꾸기"
   ]
  },
  {
   "cell_type": "code",
   "execution_count": null,
   "metadata": {},
   "outputs": [],
   "source": [
    "train_data = data_utils.preprocess_data_columns(data_path='train.csv',\n",
    "                                                column_name='problems',\n",
    "                                                save_path='train_data_columns_preprocessed.csv',\n",
    "                                                is_test=False)\n",
    "test_data = data_utils.preprocess_data_columns(data_path='test.csv',\n",
    "                                               column_name='problems',\n",
    "                                               save_path='test_data_columns_preprocessed.csv',\n",
    "                                               is_test=True)"
   ]
  },
  {
   "cell_type": "markdown",
   "metadata": {},
   "source": [
    "data_utils.preprocess_data_columns 함수를 이용하여 데이터의 열을 전처리한 csv파일을 저장했다면 다음부터는 전처리한 데이터 파일을 다음 data_utils.load_data 함수로 불러오면 된다."
   ]
  },
  {
   "cell_type": "code",
   "execution_count": null,
   "metadata": {},
   "outputs": [],
   "source": [
    "train_data = data_utils.load_data(data_path='train_data_columns_preprocessed.csv')\n",
    "test_data = data_utils.load_data(data_path='test_data_columns_preprocessed.csv')"
   ]
  },
  {
   "cell_type": "markdown",
   "metadata": {},
   "source": [
    "data_utils.view_data 함수를 통해 시험지 형식으로 문제를 볼 수 있다. start_index와 end_index에 문제의 인덱스 번호를 입력하면 된다."
   ]
  },
  {
   "cell_type": "code",
   "execution_count": null,
   "metadata": {},
   "outputs": [],
   "source": [
    "# Data 보기 ()\n",
    "data_utils.view_data(df=train_data, start_index=0, end_index=9)"
   ]
  },
  {
   "cell_type": "markdown",
   "metadata": {},
   "source": [
    "data_utils.labeling 함수를 통해 Labeling 하고 싶은 카테고리를 label_columns에 지정하여 문제마다 Labeling을 진행한다."
   ]
  },
  {
   "cell_type": "code",
   "execution_count": null,
   "metadata": {},
   "outputs": [],
   "source": [
    "data_utils.labeling(df=train_data,\n",
    "                    start_index=0,\n",
    "                    end_index=9,\n",
    "                    save_path='train_data_columns_preprocessed_labeled.csv',\n",
    "                    label_columns=['requires_rag', 'has_error'])  # 지문에서 답을 못 찾는 문제라서 RAG가 필요한지, 문제에 오류가 있는지를 Labeling한다."
   ]
  }
 ],
 "metadata": {
  "kernelspec": {
   "display_name": ".venv",
   "language": "python",
   "name": "python3"
  },
  "language_info": {
   "codemirror_mode": {
    "name": "ipython",
    "version": 3
   },
   "file_extension": ".py",
   "mimetype": "text/x-python",
   "name": "python",
   "nbconvert_exporter": "python",
   "pygments_lexer": "ipython3",
   "version": "3.10.13"
  }
 },
 "nbformat": 4,
 "nbformat_minor": 2
}
